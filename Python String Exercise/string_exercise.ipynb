{
 "cells": [
  {
   "cell_type": "markdown",
   "id": "bcc5d072-3a55-41ba-8dc7-0a22c115eb95",
   "metadata": {},
   "source": [
    "# Python String Exercises"
   ]
  },
  {
   "cell_type": "markdown",
   "id": "53ba06d9-7d72-4931-92e4-57de43c82837",
   "metadata": {},
   "source": [
    "### Exercise 1: Given a string of odd length greater than 7, return a new string made of the middle three characters of a given String"
   ]
  },
  {
   "cell_type": "code",
   "execution_count": 4,
   "id": "6b7d4ba4-c4bc-49ad-8972-8934cd1b6246",
   "metadata": {},
   "outputs": [],
   "source": [
    "##guven string\n",
    "str1 = \"JhonDipPeta\"\n",
    "\n",
    "##need to get a string with \n",
    "Expected_output_str = \"Dip\""
   ]
  },
  {
   "cell_type": "code",
   "execution_count": 9,
   "id": "ea973404-9842-4c76-899b-fff497349f3d",
   "metadata": {},
   "outputs": [],
   "source": [
    "def get_middle_three(string):\n",
    "    given_string = string\n",
    "    print(\"Given String : \", string)\n",
    "    middle_index = int(len(given_string)/2)\n",
    "    print(\"Middle Index is : \",middle_index)\n",
    "    middle_three_string = given_string[middle_index-1:middle_index+2]\n",
    "    print(\"Middle Three String : \", middle_three_string.upper())"
   ]
  },
  {
   "cell_type": "code",
   "execution_count": 10,
   "id": "df89e8ee-aa01-4e76-ac73-f170fbccb2f9",
   "metadata": {},
   "outputs": [
    {
     "name": "stdout",
     "output_type": "stream",
     "text": [
      "Given String :  Understanding\n",
      "Middle Index is :  6\n",
      "Middle Three String :  STA\n"
     ]
    }
   ],
   "source": [
    "get_middle_three(\"Understanding\")"
   ]
  },
  {
   "cell_type": "markdown",
   "id": "2bebe1d1-9c35-4d9b-959e-47e20c3a0727",
   "metadata": {},
   "source": [
    "### Exercise 2: Given two strings, s1 and s2, create a new string by appending s2 in the middle of s1"
   ]
  },
  {
   "cell_type": "code",
   "execution_count": 11,
   "id": "6b485656-d67b-45da-b1e7-897d0d210209",
   "metadata": {},
   "outputs": [],
   "source": [
    "s1 = \"Ault\"\n",
    "s2 = \"Kelly\"\n",
    "\n",
    "##expected result\n",
    "s=\"AuKellylt\""
   ]
  },
  {
   "cell_type": "code",
   "execution_count": 19,
   "id": "1efd95ee-b66d-4191-bddd-3acc8ebd8fe8",
   "metadata": {},
   "outputs": [],
   "source": [
    "def append_str_in_the_middle(s1,s2):\n",
    "    given_strings = s1,s2\n",
    "    print(\"Given Strings : \", s1,s2)\n",
    "    middle_index = int(len(s1) /2)\n",
    "    print(\"Middle Index : \", middle_index)\n",
    "    ##append s2 in s1 by the middle of the s1\n",
    "    append_in_middle_str = s1[:middle_index] + s2 + s1[middle_index:]\n",
    "    print(\"Appended Expected String : \", append_in_middle_str)"
   ]
  },
  {
   "cell_type": "code",
   "execution_count": 20,
   "id": "ec6389e3-f651-439d-b32d-834b237ee4f2",
   "metadata": {},
   "outputs": [
    {
     "name": "stdout",
     "output_type": "stream",
     "text": [
      "Given Strings :  Ault Kelly\n",
      "Middle Index :  2\n",
      "Appended Expected String :  AuKellylt\n"
     ]
    }
   ],
   "source": [
    "append_str_in_the_middle(\"Ault\",\"Kelly\")"
   ]
  },
  {
   "cell_type": "markdown",
   "id": "cc926cb0-4cdf-40e0-bc22-23a65070ed5e",
   "metadata": {},
   "source": [
    "### Exercise Question 3: Given two strings, s1, and s2 return a new string made of the first, middle, and last characters each input string"
   ]
  },
  {
   "cell_type": "code",
   "execution_count": 23,
   "id": "46c10fcf-5519-41bc-a0f9-a343fc52ce57",
   "metadata": {},
   "outputs": [],
   "source": [
    "s1 = \"America\"\n",
    "s2 = \"Japan\"\n",
    "##expected\n",
    "s=\"AJrpan\""
   ]
  },
  {
   "cell_type": "code",
   "execution_count": 26,
   "id": "d851ff91-0487-46b2-bad4-095208c5fb76",
   "metadata": {},
   "outputs": [],
   "source": [
    "def first_middle_last(s1,s2):\n",
    "    print(\"Given Strings are:\", s1,s2)\n",
    "    first_char_str = s1[:1] + s2[:1]\n",
    "    middle_char_str = s1[int(len(s1)/2):int(len(s1)/2)+1] + s2[int(len(s2)/2):int(len(s2)/2)+1]\n",
    "    last_char_str = s1[len(s1)-1] + s2[len(s2)-1] \n",
    "    \n",
    "    result_str = first_char_str + middle_char_str + last_char_str\n",
    "    print(\"Expected Result: \", result_str)"
   ]
  },
  {
   "cell_type": "code",
   "execution_count": 27,
   "id": "6fe4c244-8bc2-4f18-ae89-09dc07748649",
   "metadata": {},
   "outputs": [
    {
     "name": "stdout",
     "output_type": "stream",
     "text": [
      "Given Strings are: America Japan\n",
      "Expected Result:  AJrpan\n"
     ]
    }
   ],
   "source": [
    "first_middle_last(\"America\",\"Japan\")"
   ]
  },
  {
   "cell_type": "markdown",
   "id": "7abe68ae-99c4-4b0f-a3c1-af1d1e582efd",
   "metadata": {},
   "source": [
    "### Exercise 4: Arrange string characters such that lowercase letters should come first"
   ]
  },
  {
   "cell_type": "code",
   "execution_count": 28,
   "id": "fe8f32fe-9926-4110-988f-3f9bf7ab7210",
   "metadata": {},
   "outputs": [],
   "source": [
    "str1 = \"PyNaTive\"\n",
    "##Expected Output\n",
    "out_str = \"yaivePNT\""
   ]
  },
  {
   "cell_type": "code",
   "execution_count": 37,
   "id": "e0e35208-7786-4959-9e75-1418ba8d2e69",
   "metadata": {},
   "outputs": [],
   "source": [
    "def lower_infront(string):\n",
    "    lower = []\n",
    "    upper = []\n",
    "    \n",
    "    for chars in string:\n",
    "        ##if charecter is lower, then append to lower list\n",
    "        if chars.islower():\n",
    "            lower.append(chars)\n",
    "        else:\n",
    "            ## if the chars is upper, then append to upper list\n",
    "            upper.append(chars)\n",
    "    expected_result = \"\".join(lower+upper)\n",
    "    return expected_result"
   ]
  },
  {
   "cell_type": "code",
   "execution_count": 38,
   "id": "66f7726b-6624-4a24-b8f7-bed79f55b2d2",
   "metadata": {},
   "outputs": [
    {
     "data": {
      "text/plain": [
       "'yaivePNT'"
      ]
     },
     "execution_count": 38,
     "metadata": {},
     "output_type": "execute_result"
    }
   ],
   "source": [
    "lower_infront(\"PyNaTive\")"
   ]
  },
  {
   "cell_type": "markdown",
   "id": "4688fb1c-38d6-46aa-b159-db3d2aa7499b",
   "metadata": {},
   "source": [
    "### Exercise 5: Count all lower case, upper case, digits, and special symbols from a given string"
   ]
  },
  {
   "cell_type": "markdown",
   "id": "21aab95a-62ae-48f0-8cfd-47020cfc7516",
   "metadata": {},
   "source": [
    "str1 = \"P@#yn26at^&i5ve\"\n",
    "+ ##expected result\n",
    "Total counts of chars, digits,and symbols \n",
    "\n",
    "- Chars = 8 \n",
    "- Digits = 3 \n",
    "- Symbol = 4"
   ]
  },
  {
   "cell_type": "code",
   "execution_count": 39,
   "id": "d92ad4fb-d67c-4600-aa5d-e3bb5f924b70",
   "metadata": {},
   "outputs": [],
   "source": [
    "def findDigitsCharsSymbols(inputString):\n",
    "    charcount=0\n",
    "    digitcount=0\n",
    "    symbolcount=0\n",
    "    ##looping through the string\n",
    "    for char in inputString:\n",
    "        if char.islower() or char.isupper():\n",
    "            charcount+=1\n",
    "        elif char.isnumeric():\n",
    "            digitcount+=1\n",
    "        else:\n",
    "            symbolcount+=1\n",
    "    print(\"Chars:\",charcount,\"Digits:\",digitcount,\"Symbols:\",symbolcount)"
   ]
  },
  {
   "cell_type": "code",
   "execution_count": 41,
   "id": "3abb08ee-ccd1-4aea-9901-143ab48e2182",
   "metadata": {},
   "outputs": [
    {
     "name": "stdout",
     "output_type": "stream",
     "text": [
      "Chars: 9 Digits: 2 Symbols: 6\n"
     ]
    }
   ],
   "source": [
    "inputString=\"@00A$$$&&RFINDISI\"\n",
    "findDigitsCharsSymbols(inputString)"
   ]
  },
  {
   "cell_type": "markdown",
   "id": "ea3e8d89-f4b3-4b8f-a72f-9fe6d582a66e",
   "metadata": {},
   "source": [
    "### Exercise 6: Given two strings, s1 and s2, create a mixed String using the following rules\n",
    "+ create a third-string made of the first char of s1 then the last char of s2, \n",
    "+ Next, the second char of s1 and second last char of s2, and so on. \n",
    "+ Any leftover chars go at the end of the result."
   ]
  },
  {
   "cell_type": "code",
   "execution_count": 56,
   "id": "902550b8-23a3-40a5-aa71-fa8dfdbb5542",
   "metadata": {},
   "outputs": [],
   "source": [
    "\n",
    "\n",
    "def mixString(s1,s2):\n",
    "\n",
    "        s2=s2[::-1]  ##reverse the string\n",
    "        print(\"Reversed String:\",s2)    ##length of the reversed string\n",
    "\n",
    "        lengths1=len(s1)  ##length of s1\n",
    "        print(\"Length of the First String:\",lengths1)\n",
    "        lengths2=len(s2)  ##length of s2\n",
    "        print(\"Length of the Second String:\",lengths2)\n",
    "\n",
    "        length=lengths1 if lengths1 > lengths2 else lengths2  ##if len(s1)>len(s2) take len(s1)\n",
    "        print(length)                                         ##else take len(s2)\n",
    "\n",
    "        result_string=\"\"  ##new string\n",
    "\n",
    "        for i in range(length):##0,1,2,3,4,5\n",
    "            if (i<lengths1):##first iteration is for 0, 0 is less than len(s1)\n",
    "                result_string=result_string+s1[i]##so adding first element of s1 into new_string\n",
    "            if (i<lengths2):##similarly 0 is less than len(s2)\n",
    "                result_string=result_string+s2[i]##so adding first element of s2 to new_string\n",
    "        print(result_string)##printing the new_string"
   ]
  },
  {
   "cell_type": "code",
   "execution_count": 58,
   "id": "78cab28e-b5d1-4e96-840e-078680bdcb67",
   "metadata": {},
   "outputs": [
    {
     "name": "stdout",
     "output_type": "stream",
     "text": [
      "Reversed String: looprevil\n",
      "Length of the First String: 6\n",
      "Length of the Second String: 9\n",
      "9\n",
      "ulnoiotperdevil\n"
     ]
    }
   ],
   "source": [
    "s1=\"united\"\n",
    "s2=\"liverpool\"\n",
    "mixString(s1,s2)"
   ]
  },
  {
   "cell_type": "markdown",
   "id": "b1f7c7dd-98b4-4e3b-b566-a0e98d817fa1",
   "metadata": {},
   "source": [
    "### Exercise 7: String characters balance Test\n",
    "+ We’ll assume that a String s1 and s2 is balanced if all the chars in the s1 are there in s2. characters’ position doesn’t matter."
   ]
  },
  {
   "cell_type": "code",
   "execution_count": 79,
   "id": "4724dc68-be23-4edc-b329-ab0d2596c9b6",
   "metadata": {},
   "outputs": [],
   "source": [
    "def stringBalanceCheck(s1,s2):\n",
    "        flag=True\n",
    "        for char in s1:\n",
    "            if char in s2:\n",
    "                #print(char)\n",
    "                continue\n",
    "            else:\n",
    "                flag=False\n",
    "        return flag"
   ]
  },
  {
   "cell_type": "code",
   "execution_count": 80,
   "id": "e38b1d01-6927-444b-96e8-e12af5c19931",
   "metadata": {},
   "outputs": [
    {
     "data": {
      "text/plain": [
       "True"
      ]
     },
     "execution_count": 80,
     "metadata": {},
     "output_type": "execute_result"
    }
   ],
   "source": [
    "s1=\"manchester\"\n",
    "s2=\"manunitedchester\"\n",
    "stringBalanceCheck(s1,s2)"
   ]
  },
  {
   "cell_type": "code",
   "execution_count": 81,
   "id": "797541bf-8c09-4712-9d20-b32184e73ef6",
   "metadata": {},
   "outputs": [
    {
     "data": {
      "text/plain": [
       "False"
      ]
     },
     "execution_count": 81,
     "metadata": {},
     "output_type": "execute_result"
    }
   ],
   "source": [
    "s1 = \"Ynf\"\n",
    "s2 = \"PYnative\"\n",
    "stringBalanceCheck(s1,s2)"
   ]
  },
  {
   "cell_type": "markdown",
   "id": "c6c39494-28d5-476b-8e13-a532fbbcc41b",
   "metadata": {},
   "source": [
    "### Exercise 8: Find all occurrences of “USA” in a given string ignoring the case\n",
    "+ str1 = \"Welcome to USA. usa awesome, isn't it?\""
   ]
  },
  {
   "cell_type": "code",
   "execution_count": 83,
   "id": "810f822e-e5f0-4d30-a083-1aae62e004b1",
   "metadata": {},
   "outputs": [
    {
     "name": "stdout",
     "output_type": "stream",
     "text": [
      "USA Count is : 2\n"
     ]
    }
   ],
   "source": [
    "given_string=\"Welcome to USA.usa awesome,isn't it?\"\n",
    "sub_string=\"USA\"\n",
    "temp_string=given_string.lower()\n",
    "count=temp_string.count(sub_string.lower())\n",
    "print(\"USA Count is :\",count)"
   ]
  },
  {
   "cell_type": "markdown",
   "id": "373c6478-0f9e-4c46-a83a-4eb8583d78b4",
   "metadata": {},
   "source": [
    "### Exercise 9: Given a string, return the sum and average of the digits that appear in the string, ignoring all other characters"
   ]
  },
  {
   "cell_type": "code",
   "execution_count": 93,
   "id": "620fe224-5bc3-4e0f-99ad-73a41d37cc3e",
   "metadata": {},
   "outputs": [],
   "source": [
    "import re\n",
    "\n",
    "def sum_avg(string):\n",
    "    inputstr=string\n",
    "    print(\"Print the Given String :\",inputstr)\n",
    "    numList=[int(num) for num in re.findall(r'\\b\\d+\\b',inputstr)]\n",
    "    print(\"Number List :\",numList)\n",
    "    \n",
    "    num_total=0\n",
    "    for num in numList:\n",
    "        num_total+=num ##num_total=num_total+num\n",
    "    print(\"Total of the Numbers:\",num_total)\n",
    "    \n",
    "    ##percentage or avg\n",
    "    avg=num_total/len(numList)\n",
    "    print(\"Average is :\",avg)\n",
    "    \n",
    "    print(\"Total of Numbers is:\",num_total,\"Average of Numbers is :\",avg)"
   ]
  },
  {
   "cell_type": "code",
   "execution_count": 95,
   "id": "f8e3e4cd-87f5-484a-95f5-668b5492fe5b",
   "metadata": {},
   "outputs": [
    {
     "name": "stdout",
     "output_type": "stream",
     "text": [
      "Print the Given String : English=78,Science=83,Math=68,History=65\n",
      "Number List : [78, 83, 68, 65]\n",
      "Total of the Numbers: 294\n",
      "Average is : 73.5\n",
      "Total of Numbers is: 294 Average of Numbers is : 73.5\n"
     ]
    }
   ],
   "source": [
    "string=\"English=78,Science=83,Math=68,History=65\"\n",
    "sum_avg(string)"
   ]
  },
  {
   "cell_type": "code",
   "execution_count": 85,
   "id": "9f976536-ba10-4876-9524-22937d96b2f2",
   "metadata": {},
   "outputs": [],
   "source": [
    "import re\n",
    "inputstr=\"English=78,Science=83,Math=68,History=65\"\n",
    "markList=[int(num) for num in re.findall(r'\\b\\d+\\b',inputstr)]\n",
    "\n",
    "totalMarks=0\n",
    "for marks in markList:\n",
    "    #totalMarks=totalMarks+marks\n",
    "    totalMarks+=marks##both are used\n",
    "    \n",
    "percentage=totalMarks/len(markList)\n",
    "print(\"Total Mark is :\",totalMarks,\"Percentage :\",percentage) "
   ]
  },
  {
   "cell_type": "code",
   "execution_count": null,
   "id": "1720ce0f-f28a-452f-ae0e-df372576c8c0",
   "metadata": {},
   "outputs": [],
   "source": []
  }
 ],
 "metadata": {
  "kernelspec": {
   "display_name": "Python 3",
   "language": "python",
   "name": "python3"
  },
  "language_info": {
   "codemirror_mode": {
    "name": "ipython",
    "version": 3
   },
   "file_extension": ".py",
   "mimetype": "text/x-python",
   "name": "python",
   "nbconvert_exporter": "python",
   "pygments_lexer": "ipython3",
   "version": "3.8.5"
  }
 },
 "nbformat": 4,
 "nbformat_minor": 5
}
