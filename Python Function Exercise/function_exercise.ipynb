{
 "cells": [
  {
   "cell_type": "markdown",
   "id": "cf0de7e0-45ec-42fb-8bb8-e31a8fea5627",
   "metadata": {},
   "source": [
    "### This Python functions exercise aims to help Python developers to learn and practice how to create a function, nested functions and use the function arguments effectively."
   ]
  },
  {
   "cell_type": "markdown",
   "id": "1e9d505b-7b31-4d33-9d43-7edab0cae718",
   "metadata": {},
   "source": [
    "### Exercise 1: Create a function in Python"
   ]
  },
  {
   "cell_type": "markdown",
   "id": "97938260-d395-4df8-bd5c-6161f91b8c1f",
   "metadata": {},
   "source": [
    "Write a program to create a function that takes two arguments, name and age, and print their value."
   ]
  },
  {
   "cell_type": "code",
   "execution_count": 1,
   "id": "ff87d82e-9a9e-4b55-ad8a-c380f01284ae",
   "metadata": {},
   "outputs": [
    {
     "name": "stdout",
     "output_type": "stream",
     "text": [
      "Name of the Guy:  ameer\n",
      "Age of the Guy:  27\n"
     ]
    }
   ],
   "source": [
    "def name_age(name,age):\n",
    "    print(\"Name of the Guy: \", name)\n",
    "    print(\"Age of the Guy: \", age)\n",
    "    \n",
    "    \n",
    "name_age(\"ameer\",27)"
   ]
  },
  {
   "cell_type": "markdown",
   "id": "5504e23e-e953-4c98-827d-fabe73afda35",
   "metadata": {},
   "source": [
    "### Exercise 2: Create a function with variable length of arguments"
   ]
  },
  {
   "cell_type": "markdown",
   "id": "0d663901-0ac2-42bd-a10d-bdcb63557327",
   "metadata": {},
   "source": [
    "Write a program to create function func1() to accept a variable length of arguments and print their value."
   ]
  },
  {
   "cell_type": "markdown",
   "id": "db807ac3-6772-40e2-ab0c-8721fae0d3ea",
   "metadata": {},
   "source": [
    "To accept a variable length of positional arguments, i.e., To create functions that take n number of positional arguments we use *args as a parameter. (prefix a parameter name with an asterisk * ).\n",
    "\n",
    "Using this we can pass any number of arguments to this function. Internally all these values are represented in the form of a tuple."
   ]
  },
  {
   "cell_type": "code",
   "execution_count": 4,
   "id": "6bdcdf3f-29c6-47c5-b464-561f459f4857",
   "metadata": {},
   "outputs": [
    {
     "name": "stdout",
     "output_type": "stream",
     "text": [
      "20   30   40   50   60   70   "
     ]
    }
   ],
   "source": [
    "def function(*args):\n",
    "    for i in args:\n",
    "        print(i, end = \"   \")\n",
    "        \n",
    "function(20,30,40,50,60,70)"
   ]
  },
  {
   "cell_type": "markdown",
   "id": "c878d205-4c0e-4d8b-b1bc-83205bfeb668",
   "metadata": {},
   "source": [
    "### Exercise 3: Return multiple values from a function"
   ]
  },
  {
   "cell_type": "markdown",
   "id": "2e867774-9f00-482f-b050-16e126d48d78",
   "metadata": {},
   "source": [
    "Write a program to create function calculation() such that it can accept two variables and calculate addition and subtraction. Also, it must return both addition and subtraction in a single return call."
   ]
  },
  {
   "cell_type": "code",
   "execution_count": 13,
   "id": "cf785351-5f04-4fb3-b6db-438b288970c4",
   "metadata": {},
   "outputs": [],
   "source": [
    "def function(num1,num2):\n",
    "    num1 = int(input(\"Enter a NUmber\"))\n",
    "    num2 = int(input(\"Enter a Number\"))\n",
    "    addition_result = num1 + num2\n",
    "    multi_result = num1 * num2\n",
    "    ##return multiple values by seperating the variables by a comma\n",
    "    return addition_result,multi_result"
   ]
  },
  {
   "cell_type": "code",
   "execution_count": 12,
   "id": "216f04eb-7b7f-4eb1-84bd-759601bd44db",
   "metadata": {},
   "outputs": [
    {
     "name": "stdin",
     "output_type": "stream",
     "text": [
      "Enter a NUmber 23\n",
      "Enter a Number 32\n"
     ]
    },
    {
     "data": {
      "text/plain": [
       "(55, 736)"
      ]
     },
     "execution_count": 12,
     "metadata": {},
     "output_type": "execute_result"
    }
   ],
   "source": [
    "function(num1,num2)"
   ]
  },
  {
   "cell_type": "markdown",
   "id": "d72d2ca3-c5e7-4c5b-810c-d71b3f0bc687",
   "metadata": {},
   "source": [
    "### Exercise 4: Create a function with default argument"
   ]
  },
  {
   "cell_type": "markdown",
   "id": "3ce273ca-2d14-4823-b059-aab2e2bf9d1e",
   "metadata": {},
   "source": [
    "Write a program to create a function show_employee() using the following conditions.\n",
    "It should accept the employee’s name and salary and display both.\n",
    "If the salary is missing in the function call then assign default value 9000 to salary"
   ]
  },
  {
   "cell_type": "code",
   "execution_count": 14,
   "id": "66e3d3ac-8ab3-4d63-825f-fe124bda4a48",
   "metadata": {},
   "outputs": [],
   "source": [
    "def func_default_args(name, salary = 9000):\n",
    "    print(\"Name: \",name,\"Salary: \",salary)"
   ]
  },
  {
   "cell_type": "code",
   "execution_count": 17,
   "id": "22a31017-f2e9-4563-9233-bd7fce4b6548",
   "metadata": {},
   "outputs": [
    {
     "name": "stdout",
     "output_type": "stream",
     "text": [
      "Name:  smeer Salary:  8000\n"
     ]
    }
   ],
   "source": [
    "func_default_args(\"smeer\",8000)"
   ]
  },
  {
   "cell_type": "markdown",
   "id": "54c1f735-8ebf-418c-af1d-cbc8179a479e",
   "metadata": {},
   "source": [
    "### Exercise 5: Create an inner function to calculate the addition in the following way"
   ]
  },
  {
   "cell_type": "markdown",
   "id": "31ff7666-2815-4ce3-b0a0-0d82c3282948",
   "metadata": {},
   "source": [
    "+ Create an outer function that will accept two parameters, a and b\n",
    "+ Create an inner function inside an outer function that will calculate the addition of a and b\n",
    "+ At last, an outer function will add 5 into addition and return it"
   ]
  },
  {
   "cell_type": "code",
   "execution_count": 25,
   "id": "0d26e5ad-9f96-4636-abfb-a1173b3f667f",
   "metadata": {},
   "outputs": [],
   "source": [
    "##define outer function\n",
    "def outer_func(a,b):\n",
    "    \n",
    "    ##define inner_function for addition of a,b\n",
    "    def addition(a,b):\n",
    "        add_res = a + b\n",
    "        ##return the added result in inner function\n",
    "        return add_res\n",
    "    \n",
    "    ##call inner function from outer function\n",
    "    add_res = addition(a,b)\n",
    "    ##add 5 to the added result and return the final output in the output function\n",
    "    result = add_res + 5\n",
    "    print(\"The total result is:\", result)\n",
    "    return result"
   ]
  },
  {
   "cell_type": "code",
   "execution_count": 26,
   "id": "64adec34-b1d9-496c-9ebb-2fc941a79e07",
   "metadata": {},
   "outputs": [
    {
     "name": "stdout",
     "output_type": "stream",
     "text": [
      "The total result is: 30\n",
      "30\n"
     ]
    }
   ],
   "source": [
    "result = outer_func(10,15)\n",
    "print(result)"
   ]
  },
  {
   "cell_type": "markdown",
   "id": "d3fdceaf-8af3-4da8-83e7-36bd666b66c6",
   "metadata": {},
   "source": [
    "### Exercise 6: Create a recursive function"
   ]
  },
  {
   "cell_type": "markdown",
   "id": "7feb2318-ec30-4da8-a294-4d8cd776a907",
   "metadata": {},
   "source": [
    "Write a program to create a recursive function to calculate the sum of numbers from 0 to 10.\n",
    "\n",
    "A recursive function is a function that calls itself, again and again."
   ]
  },
  {
   "cell_type": "code",
   "execution_count": 27,
   "id": "41958ae9-8624-4da7-a7d5-5be2e9638ba7",
   "metadata": {},
   "outputs": [],
   "source": [
    "def addition(number):\n",
    "    if number:\n",
    "        ##call same function by reducing number by 1\n",
    "        return number + addition(number -1)\n",
    "    else:\n",
    "        return 0"
   ]
  },
  {
   "cell_type": "code",
   "execution_count": 28,
   "id": "bd0ea173-bfbe-47c0-baa4-979d88ea36e0",
   "metadata": {},
   "outputs": [
    {
     "name": "stdout",
     "output_type": "stream",
     "text": [
      "55\n"
     ]
    }
   ],
   "source": [
    "result = addition(10)\n",
    "print(result)"
   ]
  },
  {
   "cell_type": "markdown",
   "id": "e2c24bc6-0acf-49c4-a7c3-34fd9f39f455",
   "metadata": {},
   "source": [
    "### Exercise 7: Assign a different name to function and call it through the new name"
   ]
  },
  {
   "cell_type": "markdown",
   "id": "86258dee-6b40-4b5a-83f7-ae3b40b89122",
   "metadata": {},
   "source": [
    "Below is the function display_student(name, age). Assign a new name show_tudent(name, age) to it and call it using the new name."
   ]
  },
  {
   "cell_type": "code",
   "execution_count": 29,
   "id": "feabb1fe-745c-4338-890d-600d1dbc508a",
   "metadata": {},
   "outputs": [
    {
     "name": "stdout",
     "output_type": "stream",
     "text": [
      "Emma 156\n"
     ]
    }
   ],
   "source": [
    "##given function\n",
    "def display_student(name, age):\n",
    "    print(name, age)\n",
    "display_student(\"Emma\",156)"
   ]
  },
  {
   "cell_type": "markdown",
   "id": "11e66940-faa5-463d-8ac5-7719a916dedd",
   "metadata": {},
   "source": [
    "Now, call this function using a new name show_student(name,age) function"
   ]
  },
  {
   "cell_type": "code",
   "execution_count": 30,
   "id": "ac644bc5-0924-4612-a06d-2a291806e0c3",
   "metadata": {},
   "outputs": [],
   "source": [
    "##assign to the new name\n",
    "show_student = display_student"
   ]
  },
  {
   "cell_type": "code",
   "execution_count": 31,
   "id": "2d945a00-de86-4096-878d-97cd0193d150",
   "metadata": {},
   "outputs": [
    {
     "name": "stdout",
     "output_type": "stream",
     "text": [
      "Ameer 24\n"
     ]
    }
   ],
   "source": [
    "show_student(\"Ameer\", 24)"
   ]
  },
  {
   "cell_type": "markdown",
   "id": "a50f774d-34c8-48ea-928e-80416f1fa330",
   "metadata": {},
   "source": [
    "### Exercise 8: Generate a Python list of all the even numbers between 4 to 30"
   ]
  },
  {
   "cell_type": "code",
   "execution_count": 39,
   "id": "8797632f-6875-4360-a1a2-072d3e91c198",
   "metadata": {},
   "outputs": [],
   "source": [
    "\n",
    "def even_num_list(num1,num2):\n",
    "    num1 = int(input(\"Enter Number1\"))\n",
    "    num2 = int(input(\"Enter Number2\"))\n",
    "    \n",
    "    even_num_list = []\n",
    "    for num in range(num1,num2):\n",
    "        if num % 2 == 0:\n",
    "            even_num_list.append(num)\n",
    "        else:\n",
    "            pass\n",
    "    return even_num_list\n",
    "            "
   ]
  },
  {
   "cell_type": "code",
   "execution_count": 40,
   "id": "f720125c-18a2-47df-b781-22502e50bd3d",
   "metadata": {},
   "outputs": [
    {
     "name": "stdin",
     "output_type": "stream",
     "text": [
      "Enter Number1 2\n",
      "Enter Number2 40\n"
     ]
    },
    {
     "data": {
      "text/plain": [
       "[2, 4, 6, 8, 10, 12, 14, 16, 18, 20, 22, 24, 26, 28, 30, 32, 34, 36, 38]"
      ]
     },
     "execution_count": 40,
     "metadata": {},
     "output_type": "execute_result"
    }
   ],
   "source": [
    "even_num_list(num1,num2)"
   ]
  },
  {
   "cell_type": "code",
   "execution_count": 41,
   "id": "0489793a-b7e4-4a9d-8894-f87c657be0ae",
   "metadata": {},
   "outputs": [
    {
     "name": "stdout",
     "output_type": "stream",
     "text": [
      "[4, 6, 8, 10, 12, 14, 16, 18, 20, 22, 24, 26, 28]\n"
     ]
    }
   ],
   "source": [
    "##simple method\n",
    "print(list(range(4,30,2)))"
   ]
  },
  {
   "cell_type": "markdown",
   "id": "6a9c9e5c-fa61-481a-9c34-0f4d0addb3b1",
   "metadata": {},
   "source": [
    "### Exercise 9: Find the largest item from a given list"
   ]
  },
  {
   "cell_type": "code",
   "execution_count": 46,
   "id": "51a23c52-05f2-423b-bdcc-7ddcfebcfc0f",
   "metadata": {},
   "outputs": [
    {
     "name": "stdout",
     "output_type": "stream",
     "text": [
      "18\n"
     ]
    }
   ],
   "source": [
    "##simple method\n",
    "x = [2,4,6,8,10,12,14,16,18,6,3,11]\n",
    "\n",
    "print(max(x))"
   ]
  }
 ],
 "metadata": {
  "kernelspec": {
   "display_name": "Python 3",
   "language": "python",
   "name": "python3"
  },
  "language_info": {
   "codemirror_mode": {
    "name": "ipython",
    "version": 3
   },
   "file_extension": ".py",
   "mimetype": "text/x-python",
   "name": "python",
   "nbconvert_exporter": "python",
   "pygments_lexer": "ipython3",
   "version": "3.8.5"
  }
 },
 "nbformat": 4,
 "nbformat_minor": 5
}
