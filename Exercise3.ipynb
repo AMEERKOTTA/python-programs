{
 "cells": [
  {
   "cell_type": "markdown",
   "id": "a9291ab5-287f-4368-a2e8-3e2da393da1c",
   "metadata": {},
   "source": [
    "### Print characters from a string that are present at an even index number"
   ]
  },
  {
   "cell_type": "markdown",
   "id": "799ed174-ac9f-4a9c-9b97-f7e658d183d2",
   "metadata": {},
   "source": [
    "Write a program to accept a string from the user and display characters that are present at an even index number."
   ]
  },
  {
   "cell_type": "markdown",
   "id": "a5ed7b51-e383-45a9-bfac-3b045e74aa86",
   "metadata": {},
   "source": [
    "For example, str = \"pynative\" so you should display ‘p’, ‘n’, ‘t’, ‘v’."
   ]
  },
  {
   "cell_type": "code",
   "execution_count": 11,
   "id": "5ccce93c-8502-4fb4-ae7f-97e8a16bd0c1",
   "metadata": {},
   "outputs": [
    {
     "name": "stdin",
     "output_type": "stream",
     "text": [
      "Enter a Word understanding\n"
     ]
    },
    {
     "name": "stdout",
     "output_type": "stream",
     "text": [
      "Original String: understanding\n",
      "13\n",
      "Printing only even index Characters\n",
      "Index[ 0 ] u\n",
      "Index[ 2 ] d\n",
      "Index[ 4 ] r\n",
      "Index[ 6 ] t\n",
      "Index[ 8 ] n\n",
      "Index[ 10 ] i\n"
     ]
    }
   ],
   "source": [
    "## Accept the Input string from a user ##\n",
    "word = input(\"Enter a Word\")\n",
    "print(\"Original String:\", word)\n",
    "\n",
    "# get the length of the string #\n",
    "size = len(word)\n",
    "print(size)\n",
    "\n",
    "## iterate each character of a string\n",
    "## start:0 to start with first character\n",
    "## stop: size-1 because index starts with zero\n",
    "## step 2: to get the chars present at the even index\n",
    "\n",
    "print(\"Printing only even index Characters\")\n",
    "for i in range(0, size -1,2):\n",
    "    print(\"Index[\",i,\"]\", word[i])"
   ]
  },
  {
   "cell_type": "code",
   "execution_count": 12,
   "id": "b0a1b8a6-1c5c-469b-8098-48ab3310f972",
   "metadata": {},
   "outputs": [],
   "source": [
    "## String Slicing Method ##"
   ]
  },
  {
   "cell_type": "code",
   "execution_count": 13,
   "id": "988b0932-7372-405e-a3a9-c33dc9f9c799",
   "metadata": {},
   "outputs": [
    {
     "name": "stdin",
     "output_type": "stream",
     "text": [
      "Enter a String understanding\n"
     ]
    },
    {
     "name": "stdout",
     "output_type": "stream",
     "text": [
      "udrtnig\n"
     ]
    }
   ],
   "source": [
    "#for even position#\n",
    "string = input(\"Enter a String\")\n",
    "modified_string = string[::2]\n",
    "print(modified_string)"
   ]
  },
  {
   "cell_type": "code",
   "execution_count": 15,
   "id": "44cd7ef3-9c17-4fe9-86d6-ca9b875bfcad",
   "metadata": {},
   "outputs": [
    {
     "name": "stdin",
     "output_type": "stream",
     "text": [
      "Enter a String together\n"
     ]
    },
    {
     "name": "stdout",
     "output_type": "stream",
     "text": [
      "tee\n"
     ]
    }
   ],
   "source": [
    "# for Odd Position #\n",
    "string = input(\"Enter a String\")\n",
    "modified_string = string[::3]\n",
    "print(modified_string)"
   ]
  },
  {
   "cell_type": "code",
   "execution_count": 16,
   "id": "3882d386-078c-449c-b303-8487f49ebd59",
   "metadata": {},
   "outputs": [],
   "source": [
    "##Another Method"
   ]
  },
  {
   "cell_type": "code",
   "execution_count": 17,
   "id": "2c8c1239-5609-4cb7-b03c-e61fe0c0b773",
   "metadata": {},
   "outputs": [
    {
     "name": "stdin",
     "output_type": "stream",
     "text": [
      "Your Text understanding\n"
     ]
    },
    {
     "name": "stdout",
     "output_type": "stream",
     "text": [
      "u\n",
      "d\n",
      "r\n",
      "t\n",
      "n\n",
      "i\n",
      "g\n"
     ]
    }
   ],
   "source": [
    "# Enter Your Text\n",
    "string = input(\"Your Text\")\n",
    "\n",
    "# Length of Text\n",
    "string_length = len(string)\n",
    "\n",
    "# Iterate through string\n",
    "for s in range(string_length):\n",
    "  # Check if it is zero it means position is even\n",
    "  if s%2==0:\n",
    "    print(string[s])\n",
    "    "
   ]
  },
  {
   "cell_type": "markdown",
   "id": "9fdae1e8-c299-42a7-b10d-0e49ed44307a",
   "metadata": {},
   "source": [
    "##### "
   ]
  }
 ],
 "metadata": {
  "kernelspec": {
   "display_name": "Python 3",
   "language": "python",
   "name": "python3"
  },
  "language_info": {
   "codemirror_mode": {
    "name": "ipython",
    "version": 3
   },
   "file_extension": ".py",
   "mimetype": "text/x-python",
   "name": "python",
   "nbconvert_exporter": "python",
   "pygments_lexer": "ipython3",
   "version": "3.8.5"
  }
 },
 "nbformat": 4,
 "nbformat_minor": 5
}
