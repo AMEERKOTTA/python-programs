{
 "cells": [
  {
   "cell_type": "markdown",
   "id": "0ed323d0-e374-4bab-849f-bb4c5fe06ddb",
   "metadata": {},
   "source": [
    "### Print the following pattern"
   ]
  },
  {
   "cell_type": "markdown",
   "id": "6f656ecb-b408-436d-bb1d-bb6e326f3fbf",
   "metadata": {},
   "source": [
    "+ 1 \n",
    "+ 2 2 \n",
    "+ 3 3 3 \n",
    "+ 4 4 4 4 \n",
    "+ 5 5 5 5 5"
   ]
  },
  {
   "cell_type": "code",
   "execution_count": 3,
   "id": "23bfcaf6-7ff7-4e8a-b70f-2925651f194f",
   "metadata": {},
   "outputs": [
    {
     "name": "stdout",
     "output_type": "stream",
     "text": [
      "\n",
      "\n",
      "1 \n",
      "\n",
      "2 2 \n",
      "\n",
      "3 3 3 \n",
      "\n",
      "4 4 4 4 \n",
      "\n",
      "5 5 5 5 5 \n",
      "\n"
     ]
    }
   ],
   "source": [
    "for num in range(6):\n",
    "    for i in range(num):\n",
    "        print(num, end = ' ')\n",
    "        \n",
    "    ## new line after each row to display pattern correctly ##\n",
    "    print(\"\\n\")"
   ]
  },
  {
   "cell_type": "markdown",
   "id": "09bff78d-ab97-457f-83d0-87d5547bdf5c",
   "metadata": {},
   "source": [
    "### Check Palindrome Number"
   ]
  },
  {
   "cell_type": "markdown",
   "id": "0ad350bc-9df9-400f-9e61-510ed710f52f",
   "metadata": {},
   "source": [
    "Write a program to check if the given number is a palindrome number."
   ]
  },
  {
   "cell_type": "markdown",
   "id": "47081a03-f2d2-4ab5-bd63-23d3b3369a29",
   "metadata": {},
   "source": [
    "A palindrome number is a number that is same after reverse. For example 545, is the palindrome numbers"
   ]
  },
  {
   "cell_type": "code",
   "execution_count": 4,
   "id": "4be58845-0b30-438a-95b8-e7cc3b0efdd6",
   "metadata": {},
   "outputs": [],
   "source": [
    "def palindrome(number):\n",
    "    print(\"Original Number\", number)\n",
    "    original_num = number\n",
    "    \n",
    "    ## Reverse the Number ##\n",
    "    reverse_num = 0\n",
    "    while number > 0:\n",
    "        reminder = number % 10\n",
    "        reverse_num = (reverse_num * 10) + reminder\n",
    "        number = number // 10\n",
    "        \n",
    "    if original_num == reverse_num:\n",
    "        print(\"Given Number is Palindrome\")\n",
    "    else:\n",
    "        print(\"Given Number is Not Palindrome\")"
   ]
  },
  {
   "cell_type": "code",
   "execution_count": 5,
   "id": "67d6cc4f-2ade-42c6-a591-d511fe5026be",
   "metadata": {},
   "outputs": [
    {
     "name": "stdout",
     "output_type": "stream",
     "text": [
      "Original Number 121\n",
      "Given Number is Palindrome\n"
     ]
    }
   ],
   "source": [
    "palindrome(121)"
   ]
  },
  {
   "cell_type": "code",
   "execution_count": 6,
   "id": "33066190-833f-428e-bec3-b60c726cb9fe",
   "metadata": {},
   "outputs": [
    {
     "name": "stdout",
     "output_type": "stream",
     "text": [
      "Original Number 234\n",
      "Given Number is Not Palindrome\n"
     ]
    }
   ],
   "source": [
    "palindrome(234)"
   ]
  },
  {
   "cell_type": "markdown",
   "id": "71cb190b-bbc5-4281-88ad-a1401b5abeb0",
   "metadata": {},
   "source": [
    "### Create a new list from a two list using the following condition"
   ]
  },
  {
   "cell_type": "markdown",
   "id": "45cbeec8-2429-4c52-ae5b-e601efcc5c58",
   "metadata": {},
   "source": [
    "Given a two list of numbers, write a program to create a new list such that the new list should contain odd numbers from the first list and even numbers from the second list."
   ]
  },
  {
   "cell_type": "code",
   "execution_count": 25,
   "id": "f98b7ac5-f567-4c68-9c5a-3faf019c63b2",
   "metadata": {},
   "outputs": [],
   "source": [
    "def new_list(list1,list2):\n",
    "    print(\"First List\",list1)\n",
    "    print(\"Second List\",list2)\n",
    "    new_list = []\n",
    "    for x in list1:\n",
    "        if x%2 != 0:\n",
    "            new_list.append(x)\n",
    "        \n",
    "    for x in list2:\n",
    "        if x%2 == 0:\n",
    "            new_list.append(x)\n",
    "        \n",
    "    return new_list"
   ]
  },
  {
   "cell_type": "code",
   "execution_count": 26,
   "id": "81fb803d-0def-4ebd-b741-0adb8a15aac2",
   "metadata": {},
   "outputs": [
    {
     "name": "stdout",
     "output_type": "stream",
     "text": [
      "First List [2, 3, 4, 5, 6, 7, 8, 9]\n",
      "Second List [23, 45, 67, 88, 90, 12]\n"
     ]
    },
    {
     "data": {
      "text/plain": [
       "[3, 5, 7, 9, 88, 90, 12]"
      ]
     },
     "execution_count": 26,
     "metadata": {},
     "output_type": "execute_result"
    }
   ],
   "source": [
    "list1 = [2,3,4,5,6,7,8,9]\n",
    "list2 = [23,45,67,88,90,12]\n",
    "new_list(list1,list2)"
   ]
  },
  {
   "cell_type": "markdown",
   "id": "4c00d180-1fe7-4a04-bb64-5e04f281fc68",
   "metadata": {},
   "source": [
    "### Write a Program to extract each digit from an integer in the reverse order."
   ]
  },
  {
   "cell_type": "markdown",
   "id": "62773e23-0377-48d5-b8d2-d49ab57fd031",
   "metadata": {},
   "source": [
    "For example, If the given int is 7536, the output shall be “6 3 5 7“, with a space separating the digits."
   ]
  },
  {
   "cell_type": "code",
   "execution_count": 27,
   "id": "f10239cf-804d-48d2-b264-a35192425367",
   "metadata": {},
   "outputs": [
    {
     "name": "stdout",
     "output_type": "stream",
     "text": [
      "Given Number: 7536\n",
      "6 3 5 7 "
     ]
    }
   ],
   "source": [
    "number = 7536\n",
    "print(\"Given Number:\",number)\n",
    "while number > 0:\n",
    "    ## get the last diigit ##\n",
    "    digit = number % 10\n",
    "    ## reverse the last digit and repeat the loop ##\n",
    "    number = number // 10\n",
    "    \n",
    "    print(digit,end=' ')"
   ]
  },
  {
   "cell_type": "markdown",
   "id": "a6acd11f-8041-430d-97e4-bb34b41c4c68",
   "metadata": {},
   "source": [
    "### Print multiplication table form 1 to 10"
   ]
  },
  {
   "cell_type": "code",
   "execution_count": 28,
   "id": "c7a787e6-6c94-4638-be09-caf1509684fe",
   "metadata": {},
   "outputs": [
    {
     "name": "stdout",
     "output_type": "stream",
     "text": [
      "1 2 3 4 5 6 7 8 9 10 \t\t\n",
      "2 4 6 8 10 12 14 16 18 20 \t\t\n",
      "3 6 9 12 15 18 21 24 27 30 \t\t\n",
      "4 8 12 16 20 24 28 32 36 40 \t\t\n",
      "5 10 15 20 25 30 35 40 45 50 \t\t\n",
      "6 12 18 24 30 36 42 48 54 60 \t\t\n",
      "7 14 21 28 35 42 49 56 63 70 \t\t\n",
      "8 16 24 32 40 48 56 64 72 80 \t\t\n",
      "9 18 27 36 45 54 63 72 81 90 \t\t\n",
      "10 20 30 40 50 60 70 80 90 100 \t\t\n"
     ]
    }
   ],
   "source": [
    "for i in range(1,11):\n",
    "    for j in range(1,11):\n",
    "        print(i*j, end = \" \")\n",
    "    print(\"\\t\\t\")"
   ]
  },
  {
   "cell_type": "markdown",
   "id": "d63c9ddb-3915-4295-89aa-b085c9293d75",
   "metadata": {},
   "source": [
    "### Print downward Half-Pyramid Pattern with Star (asterisk)"
   ]
  },
  {
   "cell_type": "code",
   "execution_count": 29,
   "id": "069aa8ca-fe08-461f-9a07-c53cecfbc093",
   "metadata": {},
   "outputs": [
    {
     "name": "stdout",
     "output_type": "stream",
     "text": [
      "* * * * *  \n",
      "* * * *  \n",
      "* * *  \n",
      "* *  \n",
      "*  \n",
      " \n"
     ]
    }
   ],
   "source": [
    "for i in range(6,0,-1):\n",
    "    for j in range(0,i-1):\n",
    "        print(\"*\", end = \" \")\n",
    "    print(\" \")"
   ]
  },
  {
   "cell_type": "markdown",
   "id": "f0d99b98-1067-4e2a-84e2-d8b679e7d85e",
   "metadata": {},
   "source": [
    "### Write a function called exponent(base, exp) that returns an int value of base raises to the power of exp."
   ]
  },
  {
   "cell_type": "code",
   "execution_count": null,
   "id": "da672d49-c6a1-4305-b9da-d0adf05c0bef",
   "metadata": {},
   "outputs": [],
   "source": [
    "def exponent(base,exp):\n",
    "    num = exp\n",
    "    result = 1\n",
    "    while num > 0:\n",
    "        result = result * base\n",
    "        num = num - 1\n",
    "    print(base,\"raises to the power of\",exp,)"
   ]
  }
 ],
 "metadata": {
  "kernelspec": {
   "display_name": "Python 3",
   "language": "python",
   "name": "python3"
  },
  "language_info": {
   "codemirror_mode": {
    "name": "ipython",
    "version": 3
   },
   "file_extension": ".py",
   "mimetype": "text/x-python",
   "name": "python",
   "nbconvert_exporter": "python",
   "pygments_lexer": "ipython3",
   "version": "3.8.5"
  }
 },
 "nbformat": 4,
 "nbformat_minor": 5
}
