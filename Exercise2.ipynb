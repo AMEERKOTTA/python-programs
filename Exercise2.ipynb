{
 "cells": [
  {
   "cell_type": "markdown",
   "id": "6375fc9c-3d2e-404c-b67f-d05b577bdb6d",
   "metadata": {},
   "source": [
    "### Print the sum of the current number and the previous number"
   ]
  },
  {
   "cell_type": "markdown",
   "id": "ef3bab2b-e581-4f93-ab96-d094f5ede690",
   "metadata": {},
   "source": [
    "Write a program to iterate the first 10 numbers and in each iteration, print the sum of the current and previous number."
   ]
  },
  {
   "cell_type": "code",
   "execution_count": 6,
   "id": "a5cdd3e0-73b8-435c-b040-9b753fcb687f",
   "metadata": {},
   "outputs": [
    {
     "name": "stdout",
     "output_type": "stream",
     "text": [
      "Printing Current and Previous Number and their sum in a range(10)\n",
      "Current Number: 1 Previous Number: 0 Sum: 1\n",
      "Current Number: 2 Previous Number: 1 Sum: 3\n",
      "Current Number: 3 Previous Number: 2 Sum: 5\n",
      "Current Number: 4 Previous Number: 3 Sum: 7\n",
      "Current Number: 5 Previous Number: 4 Sum: 9\n",
      "Current Number: 6 Previous Number: 5 Sum: 11\n",
      "Current Number: 7 Previous Number: 6 Sum: 13\n",
      "Current Number: 8 Previous Number: 7 Sum: 15\n",
      "Current Number: 9 Previous Number: 8 Sum: 17\n",
      "Current Number: 10 Previous Number: 9 Sum: 19\n"
     ]
    }
   ],
   "source": [
    "print(\"Printing Current and Previous Number and their sum in a range(10)\")\n",
    "\n",
    "previous_num = 0\n",
    "\n",
    "## Loop from 0 to 10 ##\n",
    "for i in range(1,11):\n",
    "    x_sum = previous_num + i\n",
    "    \n",
    "    print(\"Current Number:\",i,\"Previous Number:\",previous_num,\"Sum:\",x_sum)\n",
    "    \n",
    "    ## Modify the previous number ##\n",
    "    ## set it to the Current Number ##\n",
    "    \n",
    "    previous_num = i"
   ]
  },
  {
   "cell_type": "code",
   "execution_count": null,
   "id": "aff7432c-78ff-4c17-8773-ba14205594ed",
   "metadata": {},
   "outputs": [],
   "source": []
  }
 ],
 "metadata": {
  "kernelspec": {
   "display_name": "Python 3",
   "language": "python",
   "name": "python3"
  },
  "language_info": {
   "codemirror_mode": {
    "name": "ipython",
    "version": 3
   },
   "file_extension": ".py",
   "mimetype": "text/x-python",
   "name": "python",
   "nbconvert_exporter": "python",
   "pygments_lexer": "ipython3",
   "version": "3.8.5"
  }
 },
 "nbformat": 4,
 "nbformat_minor": 5
}
