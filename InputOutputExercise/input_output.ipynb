{
 "cells": [
  {
   "cell_type": "markdown",
   "id": "eb281e58-b34b-48fc-bfc8-a5a078afdc39",
   "metadata": {},
   "source": [
    "### Exercise 1: Accept numbers from a user"
   ]
  },
  {
   "cell_type": "markdown",
   "id": "6b68b8ae-2867-44bb-b019-d014cd306ba4",
   "metadata": {},
   "source": [
    "Write a program to accept two numbers from the user and calculate multiplication"
   ]
  },
  {
   "cell_type": "code",
   "execution_count": 2,
   "id": "7d7d61c8-ce76-43d2-946b-c5bafb775ac7",
   "metadata": {},
   "outputs": [
    {
     "name": "stdin",
     "output_type": "stream",
     "text": [
      "Enter the First Number 12\n",
      "Enter the Second Number 23\n"
     ]
    },
    {
     "name": "stdout",
     "output_type": "stream",
     "text": [
      "276\n"
     ]
    }
   ],
   "source": [
    "num1 = int(input(\"Enter the First Number\"))\n",
    "num2 = int(input(\"Enter the Second Number\"))\n",
    "\n",
    "mult_num1_num2 = num1 * num2\n",
    "print(mult_num1_num2)"
   ]
  },
  {
   "cell_type": "markdown",
   "id": "b15da82f-b3c0-49b2-a32f-39a1a84c5f06",
   "metadata": {},
   "source": [
    "### Exercise 2: Display three string “Name”, “Is”, “James” as “Name**Is**James”"
   ]
  },
  {
   "cell_type": "code",
   "execution_count": 3,
   "id": "a9c78b88-6766-49f1-81d4-cbefa8e4a043",
   "metadata": {},
   "outputs": [
    {
     "name": "stdout",
     "output_type": "stream",
     "text": [
      "My**Name**Is**James\n"
     ]
    }
   ],
   "source": [
    "print('My', 'Name', 'Is', 'James', sep='**')"
   ]
  },
  {
   "cell_type": "markdown",
   "id": "f95bbbc1-50f5-4a1f-a51a-9b05d976ddf0",
   "metadata": {},
   "source": [
    "### Exercise 3: Convert Decimal number to octal using print() output formatting"
   ]
  },
  {
   "cell_type": "code",
   "execution_count": 4,
   "id": "db0e4d8e-616e-443f-ae99-9cfcd1d7d6fb",
   "metadata": {},
   "outputs": [
    {
     "name": "stdout",
     "output_type": "stream",
     "text": [
      "10\n"
     ]
    }
   ],
   "source": [
    "num = 8\n",
    "print('%o' % num)"
   ]
  },
  {
   "cell_type": "markdown",
   "id": "31fff769-05be-4eb5-9ef1-fc98864d092e",
   "metadata": {},
   "source": [
    "The octal number of decimal number 8 is 10"
   ]
  },
  {
   "cell_type": "markdown",
   "id": "45fc068e-c01d-4da1-96c4-9b4d0dcf8ddb",
   "metadata": {},
   "source": [
    "### Exercise 4: Display float number with 2 decimal places using print()"
   ]
  },
  {
   "cell_type": "code",
   "execution_count": 6,
   "id": "ef837f9f-7f4e-4560-9796-c4919bb1a223",
   "metadata": {},
   "outputs": [
    {
     "name": "stdout",
     "output_type": "stream",
     "text": [
      "458.54\n"
     ]
    }
   ],
   "source": [
    "num = 458.541315\n",
    "print('%.2f' % num)"
   ]
  },
  {
   "cell_type": "code",
   "execution_count": 8,
   "id": "6385f664-a494-4d24-be0c-95a36ccbc875",
   "metadata": {},
   "outputs": [
    {
     "name": "stdout",
     "output_type": "stream",
     "text": [
      "23.345\n"
     ]
    }
   ],
   "source": [
    "## Round of to two decimal numbers ##\n",
    "num = 23.345377\n",
    "print(\"%.3f\" %num)"
   ]
  },
  {
   "cell_type": "markdown",
   "id": "c51fbf07-a0fb-4a2e-b6c7-51f571c23a8d",
   "metadata": {},
   "source": [
    "### Exercise 5: Accept a list of 5 float numbers as an input from the user"
   ]
  },
  {
   "cell_type": "code",
   "execution_count": 9,
   "id": "8a64d348-3145-40a4-97e4-c25a81d4740e",
   "metadata": {},
   "outputs": [
    {
     "name": "stdout",
     "output_type": "stream",
     "text": [
      "Enter numuber at location 0 :\n"
     ]
    },
    {
     "name": "stdin",
     "output_type": "stream",
     "text": [
      " 23.4\n"
     ]
    },
    {
     "name": "stdout",
     "output_type": "stream",
     "text": [
      "Enter numuber at location 1 :\n"
     ]
    },
    {
     "name": "stdin",
     "output_type": "stream",
     "text": [
      " 98.8\n"
     ]
    },
    {
     "name": "stdout",
     "output_type": "stream",
     "text": [
      "Enter numuber at location 2 :\n"
     ]
    },
    {
     "name": "stdin",
     "output_type": "stream",
     "text": [
      " 34.5\n"
     ]
    },
    {
     "name": "stdout",
     "output_type": "stream",
     "text": [
      "Enter numuber at location 3 :\n"
     ]
    },
    {
     "name": "stdin",
     "output_type": "stream",
     "text": [
      " 12.00\n"
     ]
    },
    {
     "name": "stdout",
     "output_type": "stream",
     "text": [
      "Enter numuber at location 4 :\n"
     ]
    },
    {
     "name": "stdin",
     "output_type": "stream",
     "text": [
      " 23.0989\n"
     ]
    },
    {
     "name": "stdout",
     "output_type": "stream",
     "text": [
      "User List: [23.4, 98.8, 34.5, 12.0, 23.0989]\n"
     ]
    }
   ],
   "source": [
    "numbers = []\n",
    "\n",
    "## 5 is the list size \n",
    "## run loop 5 times\n",
    "\n",
    "for i in range(0,5):\n",
    "    print(\"Enter numuber at location\",i,\":\")\n",
    "    ## accept the float number from user ##\n",
    "    item = float(input())\n",
    "    ## add it to a list\n",
    "    numbers.append(item)\n",
    "print(\"User List:\", numbers)"
   ]
  },
  {
   "cell_type": "markdown",
   "id": "62c85101-e5ca-4b51-9dd7-af4e7c8ec2ec",
   "metadata": {},
   "source": [
    "### Exercise 6: Write all content of a given file into a new file by skipping line number 5"
   ]
  },
  {
   "cell_type": "code",
   "execution_count": 12,
   "id": "5c9f7a9b-2645-4cf4-bb3c-f62d3e42c586",
   "metadata": {},
   "outputs": [],
   "source": [
    "## Read the test.txt in read format ##\n",
    "with open(\"test.txt\",\"r\") as fp:\n",
    "    ## Read all lines from the File ##\n",
    "    lines = fp.readlines()\n",
    "\n",
    "## Open a new file with write Mode ##\n",
    "with open(\"new_text_file.txt\",\"w\") as fp:\n",
    "    count = 0\n",
    "    ##iterate each lines from the test.txt\n",
    "    for line in lines:\n",
    "        ##skip 5th line\n",
    "        if count == 4:\n",
    "            count += 1\n",
    "            continue\n",
    "        else:\n",
    "            ##write current line\n",
    "            fp.write(line)\n",
    "        ##in each iteration reduce the count\n",
    "        count += 1"
   ]
  },
  {
   "cell_type": "markdown",
   "id": "2db2e443-70d1-44b6-9f33-8e08e93caa2e",
   "metadata": {},
   "source": [
    "### Exercise 7: Accept any three string from one input() call"
   ]
  },
  {
   "cell_type": "markdown",
   "id": "3a72ea51-7135-4b49-98f9-e4985ffc41aa",
   "metadata": {},
   "source": [
    "Write a program to take three names as input from a user in the single input() function call."
   ]
  },
  {
   "cell_type": "code",
   "execution_count": 18,
   "id": "25aaf024-1940-44e4-aea7-977eb1238155",
   "metadata": {},
   "outputs": [
    {
     "name": "stdin",
     "output_type": "stream",
     "text": [
      "Enter three Strings apj abdul kalam\n"
     ]
    },
    {
     "name": "stdout",
     "output_type": "stream",
     "text": [
      "Name1: apj\n",
      "Name2: abdul\n",
      "Name3: kalam\n"
     ]
    }
   ],
   "source": [
    "str1,str2,str3 = input(\"Enter three Strings\").split()\n",
    "print(\"Name1:\",str1)\n",
    "print(\"Name2:\",str2)\n",
    "print(\"Name3:\",str3)"
   ]
  },
  {
   "cell_type": "markdown",
   "id": "6161be2b-aaf0-435d-b830-90734da425a1",
   "metadata": {},
   "source": [
    "### Exercise 8: Format variables using a string.format() method."
   ]
  },
  {
   "cell_type": "markdown",
   "id": "6af5dbec-bee6-4fe1-b7dc-04808a6d26ff",
   "metadata": {},
   "source": [
    "Write a program to use string.format() method to format the following three variables as per the expected output"
   ]
  },
  {
   "cell_type": "code",
   "execution_count": 22,
   "id": "2d696eb2-6eea-462b-9c3e-649912733b3e",
   "metadata": {},
   "outputs": [
    {
     "data": {
      "text/plain": [
       "'I have 1000 dollars so I can buy 3 football for 450 dollars'"
      ]
     },
     "execution_count": 22,
     "metadata": {},
     "output_type": "execute_result"
    }
   ],
   "source": [
    "totalMoney = 1000\n",
    "quantity = 3\n",
    "price = 450\n",
    "\n",
    "#I have 1000 dollars so I can buy 3 football for 450.00 dollars.\n",
    "\n",
    "strng = \"I have {} dollars so I can buy {} football for {} dollars\"\n",
    "\n",
    "strng.format(totalMoney,quantity,price)"
   ]
  },
  {
   "cell_type": "markdown",
   "id": "0a2e3bb7-042e-4712-8e0f-64dd29ddf58f",
   "metadata": {},
   "source": [
    "### Exercise 9: Check file is empty or not"
   ]
  },
  {
   "cell_type": "code",
   "execution_count": 28,
   "id": "ed5a0c16-b889-4f92-916b-91e317ceae80",
   "metadata": {},
   "outputs": [
    {
     "name": "stdout",
     "output_type": "stream",
     "text": [
      "File is Not Empty\n"
     ]
    }
   ],
   "source": [
    "import os\n",
    "\n",
    "size = os.stat('test.txt').st_size\n",
    "\n",
    "if size == 0:\n",
    "    print(\"File is Empty\")\n",
    "else:\n",
    "    print(\"File is Not Empty\")"
   ]
  },
  {
   "cell_type": "markdown",
   "id": "9dbaca80-1dd3-4bcb-a634-07b016d049e1",
   "metadata": {},
   "source": [
    "### Exercise 10: Read line number 4 from the following file"
   ]
  },
  {
   "cell_type": "code",
   "execution_count": 33,
   "id": "b1bf7405-295e-427c-b627-4731071a196b",
   "metadata": {},
   "outputs": [
    {
     "name": "stdout",
     "output_type": "stream",
     "text": [
      "line4\n",
      "\n"
     ]
    }
   ],
   "source": [
    "## read the test.txt file ##\n",
    "with open(\"test.txt\",\"r\") as fp:\n",
    "    lines = fp.readlines()\n",
    "    print(lines[3])"
   ]
  },
  {
   "cell_type": "code",
   "execution_count": null,
   "id": "78c9211c-e8c8-4179-8104-9f6418d511ad",
   "metadata": {},
   "outputs": [],
   "source": []
  }
 ],
 "metadata": {
  "kernelspec": {
   "display_name": "Python 3",
   "language": "python",
   "name": "python3"
  },
  "language_info": {
   "codemirror_mode": {
    "name": "ipython",
    "version": 3
   },
   "file_extension": ".py",
   "mimetype": "text/x-python",
   "name": "python",
   "nbconvert_exporter": "python",
   "pygments_lexer": "ipython3",
   "version": "3.8.5"
  }
 },
 "nbformat": 4,
 "nbformat_minor": 5
}
