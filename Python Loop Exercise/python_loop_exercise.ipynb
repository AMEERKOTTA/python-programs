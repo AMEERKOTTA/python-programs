{
 "cells": [
  {
   "cell_type": "markdown",
   "id": "7220ccc6-1e7d-410b-a2e8-543bc52c06e6",
   "metadata": {},
   "source": [
    "+ **Control flow statements**: Use the if-else statements in Python for conditional decision-making\n",
    "+ **for loop**: To iterate over a sequence of elements such as list, string.\n",
    "+ **range() function**: Using a for loop with range(), we can repeat an action a specific number of times\n",
    "+ **while loop**: To repeat a block of code repeatedly, as long as the condition is true.\n",
    "+ **Break and Continue**: To alter the loop’s execution in a certain manner.\n",
    "+ **Nested loop**: loop inside a loop is known as a nested loop"
   ]
  },
  {
   "cell_type": "markdown",
   "id": "ec2e8655-c72d-41b5-8e6f-38ac80c383e4",
   "metadata": {},
   "source": [
    "### Exercise 1: Print First 10 natural numbers using while loop"
   ]
  },
  {
   "cell_type": "code",
   "execution_count": 6,
   "id": "feb61507-1365-44ce-9f14-0866869414e9",
   "metadata": {},
   "outputs": [
    {
     "name": "stdout",
     "output_type": "stream",
     "text": [
      "1\n",
      "2\n",
      "3\n",
      "4\n",
      "5\n",
      "6\n",
      "7\n",
      "8\n",
      "9\n",
      "10\n"
     ]
    }
   ],
   "source": [
    "i = 1\n",
    "while i <= 10:\n",
    "    print(i)\n",
    "    # reduce value of i after every iteration\n",
    "    i += 1"
   ]
  },
  {
   "cell_type": "markdown",
   "id": "01be6c3b-32b2-4887-ad31-86ae2ebb2d75",
   "metadata": {},
   "source": [
    "### Exercise 2: Print the following pattern"
   ]
  },
  {
   "cell_type": "markdown",
   "id": "acbeeb53-e483-4096-b849-c0a5f348b8f9",
   "metadata": {},
   "source": [
    "- 1 \n",
    "- 1 2 \n",
    "- 1 2 3 \n",
    "- 1 2 3 4 \n",
    "- 1 2 3 4 5"
   ]
  },
  {
   "cell_type": "code",
   "execution_count": 10,
   "id": "5aa64b34-b4c1-496d-aa73-7e750692751d",
   "metadata": {},
   "outputs": [
    {
     "name": "stdout",
     "output_type": "stream",
     "text": [
      "Number Pattern\n",
      "1  \n",
      "1 2  \n",
      "1 2 3  \n",
      "1 2 3 4  \n",
      "1 2 3 4 5  \n"
     ]
    }
   ],
   "source": [
    "print(\"Number Pattern\")\n",
    "\n",
    "## decide the row count\n",
    "row = 5\n",
    "\n",
    "\n",
    "## start : 1\n",
    "## stop : row + 1 (range never include stop number in result)\n",
    "## step 1\n",
    "## run loop 5 times\n",
    "\n",
    "for i in range(1,row+1,1):\n",
    "    ## run inner loop for (i+1) times\n",
    "    for j in range(1,i+1):\n",
    "        print(j, end=\" \")\n",
    "    ## empty lines after each row\n",
    "    print(\" \")"
   ]
  },
  {
   "cell_type": "markdown",
   "id": "9427e08c-553e-41a5-b698-c909b885e4d7",
   "metadata": {},
   "source": [
    "### Exercise 3: Calculate the sum of all numbers from 1 to a given number"
   ]
  },
  {
   "cell_type": "markdown",
   "id": "2adfe9b6-9391-4228-af1e-abea3b1c830d",
   "metadata": {},
   "source": [
    "Write a program to accept a number from a user and calculate the sum of all numbers from 1 to a given number"
   ]
  },
  {
   "cell_type": "code",
   "execution_count": 20,
   "id": "9fa316d6-7b49-478f-9462-5a32340b4df4",
   "metadata": {},
   "outputs": [
    {
     "name": "stdin",
     "output_type": "stream",
     "text": [
      "Enter a Number 40\n"
     ]
    },
    {
     "name": "stdout",
     "output_type": "stream",
     "text": [
      "\n",
      "\n",
      "Sum is : 820\n"
     ]
    }
   ],
   "source": [
    "sum_ = 0\n",
    "input_num = int(input(\"Enter a Number\"))\n",
    "\n",
    "for num in range(1,input_num+1,1):\n",
    "    sum_ += num ## sum_ = sum_ + num\n",
    "print(\"\\n\")\n",
    "print(\"Sum is :\", sum_)"
   ]
  },
  {
   "cell_type": "markdown",
   "id": "cd81ed5b-dc07-49af-8da8-ea9a1f01b989",
   "metadata": {},
   "source": [
    "### Exercise 4: Write a program to print multiplication table of a given number"
   ]
  },
  {
   "cell_type": "code",
   "execution_count": 36,
   "id": "19a49ebe-3669-4d9c-b0a2-2e256189bb0d",
   "metadata": {},
   "outputs": [
    {
     "name": "stdout",
     "output_type": "stream",
     "text": [
      "2\n",
      "4\n",
      "6\n",
      "8\n",
      "10\n",
      "12\n",
      "14\n",
      "16\n",
      "18\n",
      "20\n"
     ]
    }
   ],
   "source": [
    "n = 2\n",
    "for i in range(1,11,1):\n",
    "    p = n*i\n",
    "    print(p)"
   ]
  },
  {
   "cell_type": "markdown",
   "id": "03b49fbf-82a7-4b96-aec3-2f84dafb384d",
   "metadata": {},
   "source": [
    "### Exercise 5: Display numbers from a list using loop"
   ]
  },
  {
   "cell_type": "markdown",
   "id": "08f4dbe3-98cf-4fae-a492-d4f6168ac96e",
   "metadata": {},
   "source": [
    "Write a program to display only those numbers from a list that satisfy the following conditions"
   ]
  },
  {
   "cell_type": "markdown",
   "id": "76ab20ae-fd8f-43d6-b532-2b6b40bca12a",
   "metadata": {},
   "source": [
    "+ The number must be divisible by five\n",
    "+ If the number is greater than 150, then skip it and move to the next number\n",
    "+ If the number is greater than 500, then stop the loop"
   ]
  },
  {
   "cell_type": "code",
   "execution_count": 45,
   "id": "7f67397b-fe8d-4db9-b94b-31f0f21486cf",
   "metadata": {},
   "outputs": [
    {
     "name": "stdout",
     "output_type": "stream",
     "text": [
      "75\n",
      "150\n",
      "145\n"
     ]
    }
   ],
   "source": [
    "\n",
    "numbers = [12,75,150,180,145,525,50]\n",
    "for num in numbers:\n",
    "    if num > 500:\n",
    "        break\n",
    "    elif num > 150:\n",
    "        continue\n",
    "    elif num % 5 == 0:\n",
    "        print(num)"
   ]
  },
  {
   "cell_type": "markdown",
   "id": "e2178521-2980-4a36-95b2-2bb800eb377f",
   "metadata": {},
   "source": [
    "### Exercise 6: Count the total number of digits in a number"
   ]
  },
  {
   "cell_type": "markdown",
   "id": "89ccf92e-ddef-4fb6-aee9-e6419aa949d6",
   "metadata": {},
   "source": [
    "Write a program to count the total number of digits in a number using a while loop.\n",
    "\n",
    "For example, the number is 75869, so the output should be 5."
   ]
  },
  {
   "cell_type": "code",
   "execution_count": 48,
   "id": "a6c26ea7-cec5-420b-86ab-41339b265869",
   "metadata": {},
   "outputs": [
    {
     "data": {
      "text/plain": [
       "5"
      ]
     },
     "execution_count": 48,
     "metadata": {},
     "output_type": "execute_result"
    }
   ],
   "source": [
    "num = 75869\n",
    "str(num)\n",
    "len(str(num))"
   ]
  },
  {
   "cell_type": "code",
   "execution_count": 2,
   "id": "fda7417b-c076-484f-abf1-21a962fd8b5b",
   "metadata": {},
   "outputs": [
    {
     "name": "stdout",
     "output_type": "stream",
     "text": [
      "5\n"
     ]
    }
   ],
   "source": [
    "# using while loop\n",
    "number = 75869\n",
    "count = 0\n",
    "while number != 0:\n",
    "    #floor division\n",
    "    #to reduce the last digit from number \n",
    "    number = number//10\n",
    "    #increment count by 1\n",
    "    count = count + 1\n",
    "print(count)"
   ]
  },
  {
   "cell_type": "markdown",
   "id": "72a3d0f1-cce8-46be-86ea-ea8e935b236b",
   "metadata": {},
   "source": [
    "### Exercise 7: Print the following pattern"
   ]
  },
  {
   "cell_type": "markdown",
   "id": "3677edfd-84b1-4929-bccf-7836344324fc",
   "metadata": {},
   "source": [
    "Write a program to use for loop to print the following reverse number pattern"
   ]
  },
  {
   "cell_type": "markdown",
   "id": "b2a77df6-49d5-4422-ad15-036dc681dba5",
   "metadata": {},
   "source": [
    "- 5 4 3 2 1 \n",
    "- 4 3 2 1 \n",
    "- 3 2 1 \n",
    "- 2 1 \n",
    "- 1"
   ]
  },
  {
   "cell_type": "code",
   "execution_count": 3,
   "id": "756f946f-9156-4683-9981-7f29f207bf1b",
   "metadata": {},
   "outputs": [
    {
     "name": "stdout",
     "output_type": "stream",
     "text": [
      "5 4 3 2 1 \n",
      "4 3 2 1 \n",
      "3 2 1 \n",
      "2 1 \n",
      "1 \n",
      "\n"
     ]
    }
   ],
   "source": [
    "n=5\n",
    "k=5\n",
    "\n",
    "for i in range(0,n+1):\n",
    "    for j in range(k-i,0,-1):\n",
    "        print(j,end=\" \")\n",
    "    print()"
   ]
  },
  {
   "cell_type": "markdown",
   "id": "faa9b114-3b74-4580-951b-0b51d1ff011e",
   "metadata": {},
   "source": [
    "### Exercise 8: Print list in reverse order using a loop"
   ]
  },
  {
   "cell_type": "code",
   "execution_count": 8,
   "id": "a7ee5d84-fb30-4e59-aa2c-bc82f0a854f6",
   "metadata": {},
   "outputs": [
    {
     "name": "stdout",
     "output_type": "stream",
     "text": [
      "50\n",
      "40\n",
      "30\n",
      "20\n",
      "10\n"
     ]
    }
   ],
   "source": [
    "##Approach 1\n",
    "list1 = [10, 20, 30, 40, 50]\n",
    "list_reversed=reversed(list1)\n",
    "for num in list_reversed:\n",
    "    print(num)"
   ]
  },
  {
   "cell_type": "code",
   "execution_count": 9,
   "id": "4a1bbc64-59e7-40b9-bfe4-7069864dbc9f",
   "metadata": {},
   "outputs": [
    {
     "name": "stdout",
     "output_type": "stream",
     "text": [
      "50\n",
      "40\n",
      "30\n",
      "20\n",
      "10\n"
     ]
    }
   ],
   "source": [
    "##Approach2\n",
    "list1 = [10,20,30,40,50]\n",
    "#get the list size\n",
    "#len(list1)-1:bcz index starts with 0\n",
    "#iterate list in reverse order\n",
    "#start from last item to first\n",
    "size = len(list1)-1\n",
    "for i in range(size,-1,-1):\n",
    "    print(list1[i])"
   ]
  },
  {
   "cell_type": "markdown",
   "id": "0bbd1e12-2de8-4eb4-bff0-5c0c81bbf855",
   "metadata": {},
   "source": [
    "### Exercise 9: Display numbers from -10 to -1 using for loop"
   ]
  },
  {
   "cell_type": "code",
   "execution_count": 3,
   "id": "cfc76ada-d6ee-4aff-b724-d9db933ef753",
   "metadata": {},
   "outputs": [
    {
     "name": "stdout",
     "output_type": "stream",
     "text": [
      "-10\n",
      "-9\n",
      "-8\n",
      "-7\n",
      "-6\n",
      "-5\n",
      "-4\n",
      "-3\n",
      "-2\n",
      "-1\n"
     ]
    }
   ],
   "source": [
    "## reverse looping using for\n",
    "for num in range(-10,0,1):\n",
    "    print(num)"
   ]
  },
  {
   "cell_type": "markdown",
   "id": "fcb9ca35-555c-4120-82d9-a505ef3de378",
   "metadata": {},
   "source": [
    "### Exercise 10: Use else block to display a message “Done” after successful execution of for loop"
   ]
  },
  {
   "cell_type": "code",
   "execution_count": 7,
   "id": "edb32f95-37c1-44d5-8efa-d61b6e867edb",
   "metadata": {},
   "outputs": [
    {
     "name": "stdout",
     "output_type": "stream",
     "text": [
      "0\n",
      "1\n",
      "2\n",
      "3\n",
      "4\n",
      "Done\n"
     ]
    }
   ],
   "source": [
    "for i in range(0,5):\n",
    "    print(i)\n",
    "else:\n",
    "    print(\"Done\")"
   ]
  },
  {
   "cell_type": "markdown",
   "id": "965a75a4-1182-48ea-adc5-81c9c9b2350e",
   "metadata": {},
   "source": [
    "### Exercise 11: Write a program to display all prime numbers within a range"
   ]
  },
  {
   "cell_type": "code",
   "execution_count": 13,
   "id": "f6310651-7c67-448b-b1f4-9037e0e8b9de",
   "metadata": {},
   "outputs": [
    {
     "name": "stdin",
     "output_type": "stream",
     "text": [
      "Enter a starting Number 2\n",
      "Enter the Ending Number 20\n"
     ]
    },
    {
     "name": "stdout",
     "output_type": "stream",
     "text": [
      "2\n",
      "3\n",
      "5\n",
      "7\n",
      "11\n",
      "13\n",
      "17\n",
      "19\n"
     ]
    }
   ],
   "source": [
    "num_start = int(input(\"Enter a starting Number\"))\n",
    "num_end = int(input(\"Enter the Ending Number\"))\n",
    "\n",
    "for num in range(num_start,num_end+1):\n",
    "    ##all prime numbers are greater than zero\n",
    "    ##if any number is less than or equal to zero, it is not prime number\n",
    "    if num>1:\n",
    "        for i in range(2,num):\n",
    "            ##check for factors\n",
    "            if (num%i)==0:\n",
    "                ##not a prime number, so break the inner loop and look for the next number\n",
    "                break\n",
    "                \n",
    "        else:\n",
    "            print(num)"
   ]
  },
  {
   "cell_type": "markdown",
   "id": "eddc85b4-3d4f-4e80-9308-e0960993259c",
   "metadata": {},
   "source": [
    "### Exercise 12: Display Fibonacci series up to 10 terms"
   ]
  },
  {
   "cell_type": "markdown",
   "id": "cb518c72-0303-47e0-84d0-7ccc87efa35e",
   "metadata": {},
   "source": [
    "The Fibonacci Sequence is a series of numbers. The next number is found by adding up the two numbers before it. The first two numbers are 0 and 1."
   ]
  },
  {
   "cell_type": "code",
   "execution_count": 24,
   "id": "f08b2381-b436-4271-93cd-d6036c893572",
   "metadata": {},
   "outputs": [
    {
     "name": "stdout",
     "output_type": "stream",
     "text": [
      "Fibonacci Series is :\n",
      "0  1  1  2  3  5  8  13  21  34  "
     ]
    }
   ],
   "source": [
    "##first two numbers will be 0 and 1\n",
    "num1,num2 = 0,1\n",
    "print(\"Fibonacci Series is :\")\n",
    "##run the loop 10 times\n",
    "for num in range(0,10):\n",
    "    ##print next number of the series\n",
    "    print(num1, end = \"  \")\n",
    "    ##add last two numbers to get the next number\n",
    "    next_num = num1 + num2\n",
    "    \n",
    "    ##updating the values of first two numbers for the next iteration\n",
    "    num1 = num2\n",
    "    num2 = next_num\n",
    "    "
   ]
  },
  {
   "cell_type": "markdown",
   "id": "cc440c4b-5ce9-4725-86cd-83632a4d6d33",
   "metadata": {},
   "source": [
    "### Exercise 13: Find the factorial of a given number"
   ]
  },
  {
   "cell_type": "markdown",
   "id": "816fb673-bd41-4e19-8fa9-0813ae0fa971",
   "metadata": {},
   "source": [
    "Write a program to use the loop to find the factorial of a given number.\n",
    "\n",
    "The factorial (symbol: !) means to multiply all whole numbers from the chosen number down to 1."
   ]
  },
  {
   "cell_type": "code",
   "execution_count": 32,
   "id": "6bee68d8-d8c1-4371-bca3-cd5dcbfee8d5",
   "metadata": {},
   "outputs": [
    {
     "name": "stdin",
     "output_type": "stream",
     "text": [
      "Choose a Number 5\n"
     ]
    },
    {
     "name": "stdout",
     "output_type": "stream",
     "text": [
      "Factorial of given number is: 120\n"
     ]
    }
   ],
   "source": [
    "##set the factorial as 1\n",
    "factorial = 1\n",
    "##choose a number to find the factorial\n",
    "number = int(input(\"Choose a Number\"))\n",
    "##iterate the number starting from 1 to choosen number\n",
    "for i in range(1,number+1):\n",
    "    ##In each iteration, multiply factorial by the current number and assign it again to a factorial variable (factorial = factorial *i)\n",
    "    factorial = factorial * i\n",
    "print(\"Factorial of given number is:\",factorial)\n",
    "    "
   ]
  },
  {
   "cell_type": "markdown",
   "id": "7cdfd55a-2ea1-4f4d-8eb0-c8c37702a46b",
   "metadata": {},
   "source": [
    "### Exercise 14: Reverse a given integer number"
   ]
  },
  {
   "cell_type": "code",
   "execution_count": 35,
   "id": "a970426e-9096-44ef-bd04-c1f39749152c",
   "metadata": {},
   "outputs": [
    {
     "name": "stdout",
     "output_type": "stream",
     "text": [
      "Given Number: 1233654\n",
      "Reverse Number: 4563321\n"
     ]
    }
   ],
   "source": [
    "##given number\n",
    "number = 1233654\n",
    "reverse_number = 0\n",
    "print(\"Given Number:\", number)\n",
    "##loop through while the number is greater than zero\n",
    "while number > 0:\n",
    "    reminder = number % 10\n",
    "    reverse_number = (reverse_number * 10) + reminder\n",
    "    number = number // 10\n",
    "    \n",
    "print(\"Reverse Number:\", reverse_number)\n",
    "        "
   ]
  },
  {
   "cell_type": "markdown",
   "id": "8e6adb1e-5886-4c5b-b68e-a221e8b82db8",
   "metadata": {},
   "source": [
    "### Exercise 15: Use a loop to display elements from a given list present at odd index positions"
   ]
  },
  {
   "cell_type": "code",
   "execution_count": 41,
   "id": "9e351006-f00a-4412-923f-26565e08eeb7",
   "metadata": {},
   "outputs": [
    {
     "name": "stdout",
     "output_type": "stream",
     "text": [
      "20   40   60   80   100   "
     ]
    }
   ],
   "source": [
    "my_list = [10,20,30,40,50,60,70,80,90,100]\n",
    "##starts from index 1 and use a step 2\n",
    "##which is 1,3,5 and so on\n",
    "for i in my_list[1::2]:\n",
    "    print(i, end=\"   \")"
   ]
  },
  {
   "cell_type": "markdown",
   "id": "3a41690b-4a74-4327-9250-42c37dfb5e5e",
   "metadata": {},
   "source": [
    "### Exercise 16: Calculate the cube of all numbers from 1 to a given number"
   ]
  },
  {
   "cell_type": "markdown",
   "id": "2f4552fb-6db6-4b94-882d-4f02691a4caa",
   "metadata": {},
   "source": [
    "Write a program to rint the cube of all numbers from 1 to a given number"
   ]
  },
  {
   "cell_type": "code",
   "execution_count": 48,
   "id": "acc7a5a0-6a22-4fa5-b20d-127fb0ae79d2",
   "metadata": {},
   "outputs": [
    {
     "name": "stdin",
     "output_type": "stream",
     "text": [
      "Enter a Number 5\n"
     ]
    },
    {
     "name": "stdout",
     "output_type": "stream",
     "text": [
      "The current number is  1  and the Cube is  1\n",
      "The current number is  2  and the Cube is  8\n",
      "The current number is  3  and the Cube is  27\n",
      "The current number is  4  and the Cube is  64\n",
      "The current number is  5  and the Cube is  125\n"
     ]
    }
   ],
   "source": [
    "##given number is\n",
    "number = int(input(\"Enter a Number\"))\n",
    "##iterate through the values from 1 to number\n",
    "for num in range(1,number+1):\n",
    "    ##cube of the number\n",
    "    current_number = num\n",
    "    cube = num*num*num\n",
    "    print(\"The current number is \",num, \" and the Cube is \",cube)\n",
    "    "
   ]
  },
  {
   "cell_type": "markdown",
   "id": "cc4fedee-1fa2-4c44-a6cb-15c726a6f4e6",
   "metadata": {},
   "source": [
    "### Exercise 17: Find the sum of the series upto n terms"
   ]
  },
  {
   "cell_type": "markdown",
   "id": "a1eefc30-81ba-41b7-8b95-de4da91441f6",
   "metadata": {},
   "source": [
    "Write a program to calculate the sum of series up to n term. For example, if n =5 the series will become 2 + 22 + 222 + 2222 + 22222 = 24690"
   ]
  },
  {
   "cell_type": "code",
   "execution_count": 51,
   "id": "b7648713-7c0e-49d9-a301-b9abbce93b2a",
   "metadata": {},
   "outputs": [
    {
     "name": "stdin",
     "output_type": "stream",
     "text": [
      "Enter a Number 10\n",
      "Enter the First Number 3\n"
     ]
    },
    {
     "name": "stdout",
     "output_type": "stream",
     "text": [
      "3+33+333+3333+33333+333333+3333333+33333333+333333333+3333333333+\n",
      "Sum of above series is: 3703703700\n"
     ]
    }
   ],
   "source": [
    "num_of_terms = int(input(\"Enter a Number\"))\n",
    "##first number of the sequence\n",
    "first_num = int(input(\"Enter the First Number\"))\n",
    "##initializing the sequence sum\n",
    "seq_sum = 0\n",
    "\n",
    "##run loop num_of_terms times\n",
    "for i in range(0,num_of_terms):\n",
    "    print(first_num, end = \"+\")\n",
    "    seq_sum += first_num\n",
    "    ##calculate the next term'\n",
    "    first_num = first_num * 10 + 3\n",
    "    \n",
    "print(\"\\nSum of above series is:\", seq_sum)"
   ]
  },
  {
   "cell_type": "markdown",
   "id": "5b29ff46-b542-4077-b78a-c8ff121e0f74",
   "metadata": {},
   "source": [
    "### Exercise 18: Print the following pattern"
   ]
  },
  {
   "cell_type": "markdown",
   "id": "f4cdae2b-0e26-415e-96c9-11ae717220b9",
   "metadata": {},
   "source": [
    "+ * \n",
    "+ * * \n",
    "+ * * * \n",
    "+ * * * * \n",
    "+ * * * * * \n",
    "+ * * * * \n",
    "+ * * * \n",
    "+ * * \n",
    "+ *\n"
   ]
  },
  {
   "cell_type": "markdown",
   "id": "0912e5e7-4239-4a20-9a6a-99b20627b64d",
   "metadata": {},
   "source": [
    "Use two for loops. First for loop to print the upper pattern and second for loop to print lower pattern"
   ]
  },
  {
   "cell_type": "code",
   "execution_count": 53,
   "id": "5b7db785-9cab-42f3-94a0-9f4f8520b621",
   "metadata": {},
   "outputs": [
    {
     "name": "stdout",
     "output_type": "stream",
     "text": [
      "$  \n",
      "$  $  \n",
      "$  $  $  \n",
      "$  $  $  $  \n",
      "$  $  $  $  $  \n",
      "$  $  $  $  \n",
      "$  $  $  \n",
      "$  $  \n",
      "$  \n",
      "\n"
     ]
    }
   ],
   "source": [
    "rows = 5\n",
    "##upper pattern\n",
    "for i in range(0,rows):\n",
    "    for j in range(0,i+1):\n",
    "        print(\"$\", end = \"  \")\n",
    "    print(\"\\r\")\n",
    "    \n",
    "##lower pattern\n",
    "for i in range(rows,0,-1):\n",
    "    for j in range(0,i-1):\n",
    "        print(\"$\", end = \"  \")\n",
    "    print(\"\\r\")"
   ]
  },
  {
   "cell_type": "code",
   "execution_count": null,
   "id": "e252ccc2-8a91-420b-878f-20404f3aaecc",
   "metadata": {},
   "outputs": [],
   "source": []
  }
 ],
 "metadata": {
  "kernelspec": {
   "display_name": "Python 3",
   "language": "python",
   "name": "python3"
  },
  "language_info": {
   "codemirror_mode": {
    "name": "ipython",
    "version": 3
   },
   "file_extension": ".py",
   "mimetype": "text/x-python",
   "name": "python",
   "nbconvert_exporter": "python",
   "pygments_lexer": "ipython3",
   "version": "3.8.5"
  }
 },
 "nbformat": 4,
 "nbformat_minor": 5
}
