{
 "cells": [
  {
   "cell_type": "markdown",
   "id": "3cf3f41f-8b03-4ef4-b950-ea09d946b9b8",
   "metadata": {},
   "source": [
    "### Calculate the multiplication and sum of two numbers"
   ]
  },
  {
   "cell_type": "markdown",
   "id": "d58f464e-f680-43e1-9fb8-bb0eefeb28b7",
   "metadata": {},
   "source": [
    "Given two integer numbers return their product only if the product is greater than 1000,\n",
    "else return their sum."
   ]
  },
  {
   "cell_type": "code",
   "execution_count": 13,
   "id": "cc309b51-db9a-4b72-b36d-62c308a5e582",
   "metadata": {},
   "outputs": [],
   "source": [
    "def sum_or_product(number1,number2):\n",
    "    sum = number1 + number2\n",
    "    product = number1*number2\n",
    "    \n",
    "    if product > 1000:\n",
    "        print(\"Product is Greater than 1000, Hence the Output is Product\")\n",
    "        return product\n",
    "    else:\n",
    "        print(\"Product is Less than 1000, Hence the Output \")\n",
    "        return sum"
   ]
  },
  {
   "cell_type": "code",
   "execution_count": 14,
   "id": "5dcf40f4-74ef-4537-9b33-0aee2c8199e9",
   "metadata": {},
   "outputs": [],
   "source": [
    "number1 = 20\n",
    "number2 = 30"
   ]
  },
  {
   "cell_type": "code",
   "execution_count": 15,
   "id": "98011cf5-3a18-4008-b37e-eeb24c83ec73",
   "metadata": {},
   "outputs": [
    {
     "name": "stdout",
     "output_type": "stream",
     "text": [
      "Product is less than 1000\n"
     ]
    },
    {
     "data": {
      "text/plain": [
       "50"
      ]
     },
     "execution_count": 15,
     "metadata": {},
     "output_type": "execute_result"
    }
   ],
   "source": [
    "sum_or_product(number1,number2)"
   ]
  },
  {
   "cell_type": "code",
   "execution_count": 12,
   "id": "ae9ca404-fab2-4540-8dca-f7b9094c0441",
   "metadata": {},
   "outputs": [
    {
     "name": "stdout",
     "output_type": "stream",
     "text": [
      "Product is less than 1000\n"
     ]
    },
    {
     "data": {
      "text/plain": [
       "24000"
      ]
     },
     "execution_count": 12,
     "metadata": {},
     "output_type": "execute_result"
    }
   ],
   "source": [
    "number1 = 120\n",
    "number2 = 200\n",
    "sum_or_product(number1,number2)"
   ]
  },
  {
   "cell_type": "code",
   "execution_count": null,
   "id": "828311f2-9d1c-4ea2-92db-6183ea495836",
   "metadata": {},
   "outputs": [],
   "source": []
  }
 ],
 "metadata": {
  "kernelspec": {
   "display_name": "Python 3",
   "language": "python",
   "name": "python3"
  },
  "language_info": {
   "codemirror_mode": {
    "name": "ipython",
    "version": 3
   },
   "file_extension": ".py",
   "mimetype": "text/x-python",
   "name": "python",
   "nbconvert_exporter": "python",
   "pygments_lexer": "ipython3",
   "version": "3.8.5"
  }
 },
 "nbformat": 4,
 "nbformat_minor": 5
}
