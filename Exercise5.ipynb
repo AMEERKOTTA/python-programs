{
 "cells": [
  {
   "cell_type": "markdown",
   "id": "8a1889fa-7225-45b1-8d94-0055520c9674",
   "metadata": {},
   "source": [
    "### Check if the first and last number of a list is the same"
   ]
  },
  {
   "cell_type": "markdown",
   "id": "d4e03ea2-2b66-4880-9a6c-da4431994cb4",
   "metadata": {},
   "source": [
    "Write a function to return True if the first and last number of a given list is same. If numbers are different then return False."
   ]
  },
  {
   "cell_type": "code",
   "execution_count": 8,
   "id": "411d20e0-ef4f-4b6f-8e9f-d0d7f48c0fae",
   "metadata": {},
   "outputs": [],
   "source": [
    "def function(list_):\n",
    "    if list_[0]==list_[-1]:\n",
    "        return True\n",
    "    else:\n",
    "        return False"
   ]
  },
  {
   "cell_type": "code",
   "execution_count": 9,
   "id": "e018b7ea-2dc0-4736-b8f0-85937d48e8bf",
   "metadata": {},
   "outputs": [
    {
     "data": {
      "text/plain": [
       "True"
      ]
     },
     "execution_count": 9,
     "metadata": {},
     "output_type": "execute_result"
    }
   ],
   "source": [
    "list_ = [10,20,30,40,10]\n",
    "function(list_)"
   ]
  },
  {
   "cell_type": "code",
   "execution_count": 10,
   "id": "4c29f25d-24db-46ef-bfe2-b63561162ae6",
   "metadata": {},
   "outputs": [
    {
     "data": {
      "text/plain": [
       "False"
      ]
     },
     "execution_count": 10,
     "metadata": {},
     "output_type": "execute_result"
    }
   ],
   "source": [
    "lis = [2,3,4,5,6,7,8]\n",
    "function(lis)"
   ]
  },
  {
   "cell_type": "code",
   "execution_count": 11,
   "id": "873ba06f-7d9d-4557-aee6-6ad101b07929",
   "metadata": {},
   "outputs": [],
   "source": [
    "## Function ##\n",
    "def first_last_same(numberList):\n",
    "    print(\"Given List:\", numberList)\n",
    "    \n",
    "    first_num = numberList[0]\n",
    "    print(\"First Number in the List is\",first_num)\n",
    "    last_num = numberList[-1]\n",
    "    print(\"Last Number in the List is\",last_num)\n",
    "    \n",
    "    if first_num == last_num:\n",
    "        return True\n",
    "    else:\n",
    "        return False"
   ]
  },
  {
   "cell_type": "code",
   "execution_count": 12,
   "id": "c049dd1d-2a4f-4ee4-8686-79d7ff2095cf",
   "metadata": {},
   "outputs": [
    {
     "name": "stdout",
     "output_type": "stream",
     "text": [
      "Given List: [20, 200, 3000, 4000, 20]\n",
      "First Number in the List is 20\n",
      "Last Number in the List is 20\n"
     ]
    },
    {
     "data": {
      "text/plain": [
       "True"
      ]
     },
     "execution_count": 12,
     "metadata": {},
     "output_type": "execute_result"
    }
   ],
   "source": [
    "lis = [20,200,3000,4000,20]\n",
    "first_last_same(lis)"
   ]
  },
  {
   "cell_type": "code",
   "execution_count": 13,
   "id": "a2126f3b-fcfe-4456-a551-b3811d151828",
   "metadata": {},
   "outputs": [
    {
     "name": "stdout",
     "output_type": "stream",
     "text": [
      "Given List: [10, 20, 30, 40, 50, 6, 0, 45]\n",
      "First Number in the List is 10\n",
      "Last Number in the List is 45\n"
     ]
    },
    {
     "data": {
      "text/plain": [
       "False"
      ]
     },
     "execution_count": 13,
     "metadata": {},
     "output_type": "execute_result"
    }
   ],
   "source": [
    "ls = [10,20,30,40,50,6,0,45]\n",
    "first_last_same(ls)"
   ]
  },
  {
   "cell_type": "code",
   "execution_count": null,
   "id": "6ee0a003-469c-4bfe-bfee-cbe55eea0c58",
   "metadata": {},
   "outputs": [],
   "source": []
  }
 ],
 "metadata": {
  "kernelspec": {
   "display_name": "Python 3",
   "language": "python",
   "name": "python3"
  },
  "language_info": {
   "codemirror_mode": {
    "name": "ipython",
    "version": 3
   },
   "file_extension": ".py",
   "mimetype": "text/x-python",
   "name": "python",
   "nbconvert_exporter": "python",
   "pygments_lexer": "ipython3",
   "version": "3.8.5"
  }
 },
 "nbformat": 4,
 "nbformat_minor": 5
}
