{
 "cells": [
  {
   "cell_type": "code",
   "execution_count": 1,
   "id": "aa7ae4e1",
   "metadata": {},
   "outputs": [],
   "source": [
    "import os\n",
    "import pandas as pd"
   ]
  },
  {
   "cell_type": "markdown",
   "id": "ed076456",
   "metadata": {},
   "source": [
    "## Method One "
   ]
  },
  {
   "cell_type": "code",
   "execution_count": 3,
   "id": "97b2527c",
   "metadata": {},
   "outputs": [],
   "source": [
    "def function(targetdir, file):\n",
    "    file_list = os.listdir(targetdir)\n",
    "    df_list = [pd.read_table(file) for file in file_list]\n",
    "    df = pd.concatenate(df_list)"
   ]
  },
  {
   "cell_type": "markdown",
   "id": "ddbdbace",
   "metadata": {},
   "source": [
    "## Method Two"
   ]
  },
  {
   "cell_type": "code",
   "execution_count": null,
   "id": "1084e095",
   "metadata": {},
   "outputs": [],
   "source": [
    "def Func(directory, file):\n",
    "    data = []\n",
    "    directory = os.getcwd()\n",
    "    \n",
    "    for r, d, f in os.walk(directory):\n",
    "        "
   ]
  }
 ],
 "metadata": {
  "kernelspec": {
   "display_name": "conda_python3",
   "language": "python",
   "name": "conda_python3"
  },
  "language_info": {
   "codemirror_mode": {
    "name": "ipython",
    "version": 3
   },
   "file_extension": ".py",
   "mimetype": "text/x-python",
   "name": "python",
   "nbconvert_exporter": "python",
   "pygments_lexer": "ipython3",
   "version": "3.6.13"
  }
 },
 "nbformat": 4,
 "nbformat_minor": 5
}
