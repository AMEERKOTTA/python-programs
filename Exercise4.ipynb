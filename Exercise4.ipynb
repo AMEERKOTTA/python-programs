{
 "cells": [
  {
   "cell_type": "markdown",
   "id": "ef7c4517-42fc-4745-93a7-09f8c55912e1",
   "metadata": {},
   "source": [
    "### Remove first n characters from a string"
   ]
  },
  {
   "cell_type": "markdown",
   "id": "80d967fc-bf24-42f4-8dd3-e02806845467",
   "metadata": {},
   "source": [
    "Write a program to remove characters from a string starting from zero up to n and return a new string.\n",
    "\n",
    "For example:\n",
    "\n",
    "remove_chars(\"pynative\", 4) so output must be tive. Here we need to remove first four characters from a string.\n",
    "remove_chars(\"pynative\", 2) so output must be native. Here we need to remove first two characters from a string."
   ]
  },
  {
   "cell_type": "code",
   "execution_count": 4,
   "id": "8190ac1e-f2e7-4bb8-a7e6-f2d4fd3254a8",
   "metadata": {},
   "outputs": [],
   "source": [
    "## Remove first n Characters ##\n",
    "\n",
    "def remove_chars(word, n):\n",
    "    print(\"Original String:\", word)\n",
    "    new_word = word[n:]\n",
    "    return new_word"
   ]
  },
  {
   "cell_type": "code",
   "execution_count": 3,
   "id": "805c1c7a-e16d-419b-850a-f96a2c6a737e",
   "metadata": {},
   "outputs": [
    {
     "name": "stdout",
     "output_type": "stream",
     "text": [
      "Printing New word after Removing the Characters\n",
      "Original String: understanding\n",
      "rstanding\n",
      "Original String: together\n",
      "gether\n"
     ]
    }
   ],
   "source": [
    "print(\"Printing New word after Removing the Characters\")\n",
    "print(remove_chars(\"understanding\", 4))\n",
    "print(remove_chars(\"together\", 2))"
   ]
  },
  {
   "cell_type": "markdown",
   "id": "a123c192-c209-41a2-944c-1970e7f75ee3",
   "metadata": {},
   "source": [
    "### Remove last n Characters"
   ]
  },
  {
   "cell_type": "code",
   "execution_count": 11,
   "id": "c2d532ce-3a2c-4960-a73b-eef044a4e733",
   "metadata": {},
   "outputs": [],
   "source": [
    "## Remove first n Characters ##\n",
    "\n",
    "def remove_chars(word, n):\n",
    "    print(\"Original String:\", word)\n",
    "    size = len(word)\n",
    "    new_word = word[:size - n]\n",
    "    return new_word"
   ]
  },
  {
   "cell_type": "code",
   "execution_count": 12,
   "id": "791a7019-ab13-44f1-8fed-14e425e64ec5",
   "metadata": {},
   "outputs": [
    {
     "name": "stdout",
     "output_type": "stream",
     "text": [
      "Original String: Understanding\n",
      "Understand\n",
      "Original String: Together\n",
      "Toge\n"
     ]
    }
   ],
   "source": [
    "print(remove_chars(\"Understanding\", 3))\n",
    "print(remove_chars(\"Together\",4))"
   ]
  },
  {
   "cell_type": "code",
   "execution_count": null,
   "id": "023669f9-f820-4280-9855-9ce1b46e3db7",
   "metadata": {},
   "outputs": [],
   "source": []
  }
 ],
 "metadata": {
  "kernelspec": {
   "display_name": "Python 3",
   "language": "python",
   "name": "python3"
  },
  "language_info": {
   "codemirror_mode": {
    "name": "ipython",
    "version": 3
   },
   "file_extension": ".py",
   "mimetype": "text/x-python",
   "name": "python",
   "nbconvert_exporter": "python",
   "pygments_lexer": "ipython3",
   "version": "3.8.5"
  }
 },
 "nbformat": 4,
 "nbformat_minor": 5
}
